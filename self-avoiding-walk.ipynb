{
 "cells": [
  {
   "cell_type": "markdown",
   "id": "92406dbc-2ffd-46b4-8995-062139a14f02",
   "metadata": {},
   "source": [
    "Refer to the [Wikipedia article](https://en.wikipedia.org/wiki/Self-avoiding_walk) on self-avoiding walks for a good primer on the subject. [Bauerschmidt et al. (2012)](https://www.ihes.fr/~duminil/publi/saw_lecture_notes.pdf) give an extremely thorough description of known qualities of self-avoiding random walks and their connections to other areas of mathematics. Here are links to some other resources I found informative:\n",
    " - https://mathoverflow.net/questions/158811/wander-distance-of-self-avoiding-walk-that-backs-out-of-culs-de-sac\n",
    " - https://mathoverflow.net/questions/52813/self-avoiding-walk-enumerations\n",
    " - https://mathoverflow.net/questions/41543/how-to-characterize-a-self-avoiding-\n",
    " - https://mathoverflow.net/questions/54144/self-avoiding-walk-pair-correlation\n",
    " - https://mathoverflow.net/questions/23583/self-avoidance-time-of-random-walk\n",
    " - https://mathoverflow.net/questions/181340/square-filling-self-avoiding-walk\n",
    " \n",
    "Some exhaustive results by numerical simulation are available here:\n",
    " - https://secure.math.ubc.ca/~slade/lacecounts/index.html\n",
    " - https://secure.math.ubc.ca/~slade/se_tables.pdf\n",
    " \n",
    "Here are some other academic results on the topic:\n",
    " - https://secure.math.ubc.ca/~slade/se_tables.pdf\n",
    " - https://www.sciencedirect.com/science/article/abs/pii/0032386185900084?via%3Dihub\n",
    " - https://journals.aps.org/prb/abstract/10.1103/PhysRevB.31.2993\n",
    " - https://arxiv.org/abs/1408.6714\n",
    " \n",
    "Other interesting simulations/related information:\n",
    " - https://mathoverflow.net/questions/88659/traversing-the-infinite-square-grid\n",
    " - https://mathoverflow.net/questions/306794/counting-hamiltonian-cycles-in-n-times-n-square-grid\n",
    " - https://iopscience.iop.org/article/10.1088/0305-4470/38/42/001\n",
    " - https://mathoverflow.net/questions/67192/exactly-simulating-a-random-walk-from-infinity"
   ]
  },
  {
   "cell_type": "code",
   "execution_count": 1,
   "id": "c073ea8d-8ce8-4eb4-acee-898f30abe5cc",
   "metadata": {},
   "outputs": [],
   "source": [
    "import numpy as np\n",
    "import matplotlib.pyplot as plt\n",
    "import numba as nb\n",
    "import itertools\n",
    "import random"
   ]
  },
  {
   "cell_type": "code",
   "execution_count": 2,
   "id": "44addb42-cdbd-4723-b83e-f5070d74065f",
   "metadata": {},
   "outputs": [
    {
     "name": "stdout",
     "output_type": "stream",
     "text": [
      "[[-1  0]\n",
      " [ 1  0]\n",
      " [ 0 -1]\n",
      " [ 0  1]]\n"
     ]
    }
   ],
   "source": [
    "dimensions = 2\n",
    "D = dimensions\n",
    "z = 10\n",
    "\n",
    "start = [0, 0]\n",
    "choices = []\n",
    "\n",
    "for n in range(dimensions):\n",
    "    for y in [-1, 1]:\n",
    "        delta = np.zeros(dimensions).astype(np.int)\n",
    "        delta[n] = y\n",
    "        choices.append(delta)\n",
    "choices = np.stack(choices)\n",
    "\n",
    "print(choices)"
   ]
  },
  {
   "cell_type": "code",
   "execution_count": 3,
   "id": "84a9c44f-a8b0-43ee-87ee-a0bd257af2cf",
   "metadata": {},
   "outputs": [],
   "source": [
    "steps = []\n",
    "@nb.njit\n",
    "def valid_moves(g, m, q):\n",
    "#     filtered = list(filter(lambda c: (0<=pos+c).all() and (pos+c<z).all() and grid[tuple(pos+c)] == 0, m))\n",
    "    filtered = []\n",
    "    for i in m:\n",
    "#         print(pos, m)\n",
    "        p = q+i\n",
    "#         if (0<=p).all() and (p<z).all() and g[p[0], p[1]] == 0:\n",
    "        if (0<=p).all():\n",
    "            if (p<z).all():\n",
    "                if g[p[0], p[1]] == 0:\n",
    "#                     print(p, g[p[0], p[1]], (p<z).all(), z)\n",
    "                    filtered.append(i)\n",
    "    return filtered"
   ]
  },
  {
   "cell_type": "code",
   "execution_count": 4,
   "id": "d7d80b7f-ade5-4dc0-bbde-bbfee16365d7",
   "metadata": {},
   "outputs": [],
   "source": [
    "@nb.jit(nopython=True)\n",
    "def bound(x, a, b):\n",
    "    if x >= b:\n",
    "        x = b-1\n",
    "    elif x < a:\n",
    "        x = a\n",
    "    return x\n",
    "\n",
    "@nb.njit\n",
    "def clip(x, a, b):\n",
    "    for i in range(x.shape[0]):\n",
    "        x[i] = bound(x[i], a, b)\n",
    "    return x"
   ]
  },
  {
   "cell_type": "code",
   "execution_count": 9,
   "id": "714123dd-6464-479f-b41b-650d02721914",
   "metadata": {
    "tags": []
   },
   "outputs": [],
   "source": [
    "#@nb.njit#(parallel=True)\n",
    "def simulate(z, m=1, backtrack=True):\n",
    "    for x in range(1):\n",
    "        pos = np.array([0, 0])\n",
    "#         grid = np.zeros([z] * D)\n",
    "        grid = np.zeros((z, z), dtype=np.int64)\n",
    "#         walks = []\n",
    "#         steps = []\n",
    "#         steps.append(pos)\n",
    "\n",
    "#         steps = np.zeros((z**2, 2))\n",
    "#         steps[0] = pos\n",
    "        level = 0\n",
    "#         TODO: randomize initial branches\n",
    "        branches = np.zeros((z**2,), dtype=np.int64)\n",
    "        \n",
    "#         Loop through (n^2)*m steps, where n is the width of the grid and m is a coefficient\n",
    "        for t in range(z**2*m):\n",
    "    #         print(0<pos+delta[0]<z)\n",
    "    #         print(grid[tuple(pos+delta[0])])\n",
    "            possible = valid_moves(grid, choices, pos)\n",
    "#             print(possible)\n",
    "            grid[pos[0], pos[1]] = level+(z**2//4)\n",
    "            \n",
    "            if len(possible) > 0 and branches[level] < len(possible):\n",
    "#                 delta = random.choice(possible)\n",
    "#                 delta = np.random.choice(possible)\n",
    "#                 np.random.shuffle(possible)\n",
    "#                 index = np.random.randint(0, len(possible))\n",
    "#                 branches[level] = index\n",
    "#                 delta = possible[index]\n",
    "                delta = possible[branches[level]]\n",
    "\n",
    "#                 steps.append(delta)\n",
    "                pos += delta\n",
    "#                 steps.append(delta)\n",
    "#                 steps[l] = delta\n",
    "\n",
    "#                 pos = np.clip(pos, 0, z-1)\n",
    "                \n",
    "                pos = clip(pos, 0, z)\n",
    "                \n",
    "#                 grid[tuple(pos)] = 1\n",
    "#                 print(pos[0])\n",
    "\n",
    "#                 Move to the next \"level\" below the current one\n",
    "#                 Only increase the step count if there are still spaces to move to\n",
    "                if np.count_nonzero(grid) <= z**2-1 and level < z**2-1:\n",
    "                    level += 1\n",
    "                    branches[level] = 0\n",
    "            else:\n",
    "#                 lengths.append(t)\n",
    "#                 walks.append(grid)\n",
    "                if backtrack:\n",
    "                    # TODO: prevent reselection of \"stuck\" path\n",
    "            \n",
    "#                     Reset value of current position and checked sub-branch\n",
    "                    grid[pos[0], pos[1]] = 0\n",
    "                    branches[level] = 0\n",
    "                    \n",
    "                    pos -= delta\n",
    "                    pos = clip(pos, 0, z)\n",
    "#                     steps.pop()\n",
    "                    level -= 1\n",
    "                    branches[level] += 1\n",
    "                else:\n",
    "                    break\n",
    "                \n",
    "#                 End simulation early if a \"perfect\" path which covers the entire grid is found\n",
    "                if np.count_nonzero(grid) >= z**2-1:\n",
    "                    break\n",
    "#         else:\n",
    "#         walks.append(grid)\n",
    "    return grid"
   ]
  },
  {
   "cell_type": "code",
   "execution_count": 18,
   "id": "f9611316-f787-4f2c-972c-3b6fa9c1ca06",
   "metadata": {},
   "outputs": [
    {
     "data": {
      "text/plain": [
       "(-0.5, 4.5, 4.5, -0.5)"
      ]
     },
     "execution_count": 18,
     "metadata": {},
     "output_type": "execute_result"
    },
    {
     "data": {
      "image/png": "[encoded data removed]",
      "text/plain": [
       "<Figure size 720x720 with 1 Axes>"
      ]
     },
     "metadata": {
      "needs_background": "light"
     },
     "output_type": "display_data"
    }
   ],
   "source": [
    "# Store the best discovered path (i.e., the one that covers the most cells in the grid)\n",
    "best = None\n",
    "# Track walks/paths and their lengths\n",
    "lengths = []\n",
    "walks = []\n",
    "# Run multiple simulations\n",
    "for i in range(300):\n",
    "    G = simulate(5, 3, True)\n",
    "#     if best:\n",
    "#         print(best.max())\n",
    "#     lengths.append(G.max())\n",
    "    L = np.count_nonzero(G)\n",
    "    lengths.append(L)\n",
    "    walks.append(G)\n",
    "    \n",
    "#     If current path is longer than the best one found, store it instead\n",
    "#     if best is None or G.max() > best.max():\n",
    "    if best is None or np.count_nonzero(G) >= np.count_nonzero(best):\n",
    "        best = G\n",
    "\n",
    "# Display a visualization of the generated path\n",
    "plt.figure(figsize=(10, 10))\n",
    "plt.imshow(best, cmap='inferno')\n",
    "plt.axis('off')\n",
    "\n",
    "# decision trees? + parity\n",
    "# random walks that close to a polygon\n",
    "# (self-avoiding) random walks around obstructions\n",
    "# add heuristics\n",
    "# avoid and/or break at \n",
    "# add backtracking\n",
    "# add step labels"
   ]
  },
  {
   "cell_type": "code",
   "execution_count": 262,
   "id": "65dc9c71-c36a-432d-be11-4a476fc8b1c8",
   "metadata": {},
   "outputs": [
    {
     "data": {
      "image/png": "[encoded data removed]",
      "text/plain": [
       "<Figure size 720x360 with 1 Axes>"
      ]
     },
     "metadata": {
      "needs_background": "light"
     },
     "output_type": "display_data"
    }
   ],
   "source": [
    "# Plot a histogram of the path lengths\n",
    "plt.figure(figsize=(10, 5))\n",
    "x = plt.hist(lengths, bins=25)"
   ]
  },
  {
   "cell_type": "code",
   "execution_count": 256,
   "id": "6ea1bef3-e52f-45fb-b410-316cd166d0cc",
   "metadata": {},
   "outputs": [
    {
     "data": {
      "text/plain": [
       "<matplotlib.image.AxesImage at 0x1f402b0c640>"
      ]
     },
     "execution_count": 256,
     "metadata": {},
     "output_type": "execute_result"
    },
    {
     "data": {
      "image/png": "[encoded data removed]",
      "text/plain": [
       "<Figure size 432x288 with 1 Axes>"
      ]
     },
     "metadata": {
      "needs_background": "light"
     },
     "output_type": "display_data"
    }
   ],
   "source": [
    "# Display the \"average path\", the mean of all those simulated\n",
    "plt.imshow(np.average(np.stack(walks), axis=0))"
   ]
  },
  {
   "cell_type": "code",
   "execution_count": null,
   "id": "2cb8f612-70ca-4ce4-9de7-fc80b88b9492",
   "metadata": {},
   "outputs": [],
   "source": []
  }
 ],
 "metadata": {
  "kernelspec": {
   "display_name": "Python 3",
   "language": "python",
   "name": "python3"
  },
  "language_info": {
   "codemirror_mode": {
    "name": "ipython",
    "version": 3
   },
   "file_extension": ".py",
   "mimetype": "text/x-python",
   "name": "python",
   "nbconvert_exporter": "python",
   "pygments_lexer": "ipython3",
   "version": "3.9.4"
  }
 },
 "nbformat": 4,
 "nbformat_minor": 5
}
