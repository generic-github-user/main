{
 "cells": [
  {
   "cell_type": "code",
   "execution_count": 1,
   "id": "914036db-14b9-4f64-93c0-72abd342b392",
   "metadata": {},
   "outputs": [
    {
     "name": "stderr",
     "output_type": "stream",
     "text": [
      "[NbConvertApp] Converting notebook snippets.ipynb to script\n",
      "[NbConvertApp] Writing 2413 bytes to snippets.py\n"
     ]
    }
   ],
   "source": [
    "!jupyter nbconvert --to script snippets.ipynb"
   ]
  },
  {
   "cell_type": "markdown",
   "id": "0b78109c-8ca3-4624-8310-e58e22bdd2ef",
   "metadata": {},
   "source": [
    "### Prime Number Generator\n",
    "\n",
    "Prints out a list of prime numbers in the specified range."
   ]
  },
  {
   "cell_type": "code",
   "execution_count": 2,
   "id": "8cec9ad3-4eb7-46b7-8b28-830a33f02167",
   "metadata": {},
   "outputs": [
    {
     "name": "stdout",
     "output_type": "stream",
     "text": [
      "2\n",
      "3\n",
      "4\n",
      "5\n",
      "6\n",
      "7\n",
      "9\n",
      "11\n",
      "13\n",
      "17\n",
      "19\n",
      "23\n",
      "25\n",
      "29\n",
      "31\n",
      "37\n",
      "41\n",
      "43\n",
      "47\n",
      "49\n"
     ]
    }
   ],
   "source": [
    "for i in range(2, 50):\n",
    "    for j in range(2, round(i**(1/2))):\n",
    "        if i % j == 0:\n",
    "            break\n",
    "    else:\n",
    "        print(i)"
   ]
  },
  {
   "cell_type": "markdown",
   "id": "b90c05d2-9f8f-485d-818f-b762b500b134",
   "metadata": {},
   "source": [
    "### Flatten Nested List\n",
    "\n",
    "Convert an irregular ordered list of lists and/or values to a shallow sequence of values.\n",
    "\n",
    "Source: https://stackoverflow.com/a/14491059/10940584"
   ]
  },
  {
   "cell_type": "code",
   "execution_count": 3,
   "id": "f86eb9b5-95d0-4204-a7ef-3f20f260d63c",
   "metadata": {},
   "outputs": [
    {
     "data": {
      "text/plain": [
       "[1, 2, 3, 4, 5, 6]"
      ]
     },
     "execution_count": 3,
     "metadata": {},
     "output_type": "execute_result"
    }
   ],
   "source": [
    "def flatten(L):\n",
    "    for item in L:\n",
    "        try:\n",
    "            yield from flatten(item)\n",
    "        except TypeError:\n",
    "            yield item\n",
    "\n",
    "list(flatten([[[1, 2, 3], [4, 5]], 6]))"
   ]
  },
  {
   "cell_type": "markdown",
   "id": "646620af-67b7-4bd2-a6aa-77a0808e55d7",
   "metadata": {},
   "source": [
    "## String Manipulation"
   ]
  },
  {
   "cell_type": "markdown",
   "id": "59d675ff-e039-44c2-b88b-52a5e0bf9c15",
   "metadata": {},
   "source": [
    "### Title Case"
   ]
  },
  {
   "cell_type": "code",
   "execution_count": 10,
   "id": "a0c2cef4-d63e-4562-a7a4-4cdfad3d9392",
   "metadata": {},
   "outputs": [
    {
     "data": {
      "text/plain": [
       "'Trends in Machine Learning'"
      ]
     },
     "execution_count": 10,
     "metadata": {},
     "output_type": "execute_result"
    }
   ],
   "source": [
    "def title(text, ignore=['in', 'the', 'of', 'with', 'or', 'and']):\n",
    "    return ' '.join(w[0].upper()+w[1:] if w not in ignore else w for w in text.split(' '))\n",
    "\n",
    "title('trends in machine learning')"
   ]
  },
  {
   "cell_type": "code",
   "execution_count": 9,
   "id": "e6283ffb-2d9d-421a-8863-a236d47b9265",
   "metadata": {},
   "outputs": [
    {
     "data": {
      "text/plain": [
       "'x, y, and z'"
      ]
     },
     "execution_count": 9,
     "metadata": {},
     "output_type": "execute_result"
    }
   ],
   "source": [
    "def makelist(items):\n",
    "    return ', '.join(items[:-1])+', and '+items[-1]\n",
    "\n",
    "makelist(list('xyz'))"
   ]
  },
  {
   "cell_type": "code",
   "execution_count": 41,
   "id": "fee5a398-2133-420a-9dfb-ff24990c2981",
   "metadata": {},
   "outputs": [],
   "source": [
    "def subdivide(num, parts):\n",
    "    result = []\n",
    "#     while num>0:\n",
    "    factor = max(1/p for p in parts)\n",
    "    parts = [int(p*factor) for p in parts]\n",
    "    num *= factor\n",
    "    parts.sort(reverse=True)\n",
    "    for p in parts:\n",
    "#             while num>p:\n",
    "        if num >= p:\n",
    "            x = num // p\n",
    "            result.append((p/factor, x))\n",
    "            num -= p * x\n",
    "    if num:\n",
    "        print(f'Remainder of {round(num/factor, 4)}')\n",
    "    return result"
   ]
  },
  {
   "cell_type": "code",
   "execution_count": 59,
   "id": "862920cf-0da8-4ee3-841e-db3db7c9fb2f",
   "metadata": {},
   "outputs": [],
   "source": [
    "# test = 'thing'\n",
    "# test.pop()"
   ]
  },
  {
   "cell_type": "code",
   "execution_count": 66,
   "id": "9dd34cd2-fce3-4e89-8e3d-cb4f20ead2e2",
   "metadata": {},
   "outputs": [],
   "source": [
    "def plural(a, b, prepend=False):\n",
    "    if b != 1:\n",
    "        if a[-1] == 'y':\n",
    "            a = a[:-1] + 'ies'\n",
    "        elif a[-1] != 's':\n",
    "            a += 's'\n",
    "    if prepend:\n",
    "        a = f'{b} {a}'\n",
    "    return a"
   ]
  },
  {
   "cell_type": "code",
   "execution_count": 74,
   "id": "9b8caf4d-8bfc-45c6-9b02-a166aae42c85",
   "metadata": {},
   "outputs": [
    {
     "name": "stdout",
     "output_type": "stream",
     "text": [
      "(100, 50, 20, 10, 5, 1, 0.25, 0.1, 0.05, 0.01)\n"
     ]
    },
    {
     "data": {
      "text/plain": [
       "'1 x $10 bill, 2 x $1 bill, 1 x quarter, 1 x nickel, and 4 x penny'"
      ]
     },
     "execution_count": 74,
     "metadata": {},
     "output_type": "execute_result"
    }
   ],
   "source": [
    "values = [\n",
    "    [100, '$100 bill'],\n",
    "    [50, '$50 bill'],\n",
    "    [20, '$20 bill'],\n",
    "    [10, '$10 bill'],\n",
    "    [5, '$5 bill'],\n",
    "    [1, '$1 bill'],\n",
    "    [0.25, 'quarter'],\n",
    "    [0.10, 'dime'],\n",
    "    [0.05, 'nickel'],\n",
    "    [0.01, 'penny']\n",
    "]\n",
    "nums, labels = list(zip(*values))\n",
    "c = subdivide(12.34, nums)\n",
    "print(nums)\n",
    "makelist(['{} x {}'.format(int(b[1]), labels[nums.index(b[0])]) for b in c])"
   ]
  },
  {
   "cell_type": "code",
   "execution_count": 75,
   "id": "71bb520d-f905-4147-8f1c-f7c337e84a63",
   "metadata": {},
   "outputs": [
    {
     "data": {
      "text/plain": [
       "'1 $10 bill, 2 $1 bills, 1 quarter, 1 nickel, and 4 pennies'"
      ]
     },
     "execution_count": 75,
     "metadata": {},
     "output_type": "execute_result"
    }
   ],
   "source": [
    "makelist([plural(labels[nums.index(b[0])], int(b[1]), True) for b in c])"
   ]
  },
  {
   "cell_type": "code",
   "execution_count": 76,
   "id": "4c1c9b8d-6f62-4a7b-81c2-631ad5708419",
   "metadata": {},
   "outputs": [
    {
     "name": "stdout",
     "output_type": "stream",
     "text": [
      "3 $100 bills, 1 $50 bill, 1 $20 bill, 1 $5 bill, 3 $1 bills, 2 dimes, and 2 pennies\n"
     ]
    }
   ],
   "source": [
    "def change(amount):\n",
    "    c = subdivide(amount, nums)\n",
    "    return makelist([plural(labels[nums.index(b[0])], int(b[1]), True) for b in c])\n",
    "\n",
    "print(change(378.22))"
   ]
  },
  {
   "cell_type": "code",
   "execution_count": 42,
   "id": "14384f0a-30a6-4bfb-9f6f-bb5f94f519c1",
   "metadata": {},
   "outputs": [],
   "source": [
    "# TODO: flood fill"
   ]
  }
 ],
 "metadata": {
  "kernelspec": {
   "display_name": "Python 3",
   "language": "python",
   "name": "python3"
  },
  "language_info": {
   "codemirror_mode": {
    "name": "ipython",
    "version": 3
   },
   "file_extension": ".py",
   "mimetype": "text/x-python",
   "name": "python",
   "nbconvert_exporter": "python",
   "pygments_lexer": "ipython3",
   "version": "3.9.4"
  }
 },
 "nbformat": 4,
 "nbformat_minor": 5
}
