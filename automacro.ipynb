{
 "cells": [
  {
   "cell_type": "code",
   "execution_count": 57,
   "id": "8fcfd188-cd0b-45a9-ade9-b56065eb83d7",
   "metadata": {},
   "outputs": [
    {
     "name": "stdout",
     "output_type": "stream",
     "text": [
      "Testing 729 operations across 4 examples\n",
      "ML True\n",
      "ML True\n",
      "ML True\n",
      "Checked 258 combinations and found 3 matches\n",
      "[(<method 'upper' of 'str' objects>, <method 'split' of 'str' objects>, <function <lambda> at 0x000001AF73841310>), (<method 'split' of 'str' objects>, <function <lambda> at 0x000001AF73841310>, <method 'upper' of 'str' objects>), (<method 'split' of 'str' objects>, <method 'upper' of 'str' objects>, <function <lambda> at 0x000001AF73841310>)]\n"
     ]
    }
   ],
   "source": [
    "import itertools\n",
    "\n",
    "examples = [\n",
    "    ['United States', 'US'],\n",
    "    ['Continuous Integration', 'CI'],\n",
    "    ['artificial intelligence', 'AI'],\n",
    "    ['Machine learning', 'ML']\n",
    "]\n",
    "manipulations = [\n",
    "    [lambda x: x[0], 'First char'],\n",
    "    [lambda x: x[::-1], 'Reverse'],\n",
    "    [str.lower, 'Lowercase'],\n",
    "    [str.upper, 'Capitalize'],\n",
    "    [str.split, 'Split'],\n",
    "    [lambda x: ''.join(x), 'Join'],\n",
    "]\n",
    "M = [m[0] for m in manipulations]\n",
    "options = []\n",
    "max_ops = 3\n",
    "print(f'Testing {max_ops**len(manipulations)} operations across {len(examples)} examples')\n",
    "checked = 0\n",
    "for n in range(max_ops):\n",
    "    for i in itertools.product(M, repeat=n+1):\n",
    "    #     sequence = []\n",
    "        for ex in examples:\n",
    "    #         print('Testing sample {} -> {}'.format(*ex))\n",
    "            S = ex[0]\n",
    "            for j in i:\n",
    "                if type(S) is str:\n",
    "                    S = j(S)\n",
    "                elif type(S) in [list, tuple]:\n",
    "                    S = list(map(j, S))\n",
    "                    if type(S[0]) is list:\n",
    "                        S = list(itertools.chain(*S))\n",
    "                else:\n",
    "                    print(type(S))\n",
    "\n",
    "            if type(S) is list:\n",
    "                S = ''.join(S)\n",
    "            if S != ex[1]:\n",
    "    #             print(S)\n",
    "                break\n",
    "        else:\n",
    "            print(S, True)\n",
    "            options.append(i)\n",
    "        checked += 1\n",
    "    \n",
    "print(f'Checked {checked} combinations and found {len(options)} matches')\n",
    "print(options)"
   ]
  }
 ],
 "metadata": {
  "kernelspec": {
   "display_name": "Python 3",
   "language": "python",
   "name": "python3"
  },
  "language_info": {
   "codemirror_mode": {
    "name": "ipython",
    "version": 3
   },
   "file_extension": ".py",
   "mimetype": "text/x-python",
   "name": "python",
   "nbconvert_exporter": "python",
   "pygments_lexer": "ipython3",
   "version": "3.9.4"
  }
 },
 "nbformat": 4,
 "nbformat_minor": 5
}
