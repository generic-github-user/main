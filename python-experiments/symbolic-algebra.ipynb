{
 "cells": [
  {
   "cell_type": "code",
   "execution_count": 3,
   "id": "fe7ee7d3-6fde-41ae-9dd7-af3e054f137c",
   "metadata": {},
   "outputs": [],
   "source": [
    "import string"
   ]
  },
  {
   "cell_type": "code",
   "execution_count": 53,
   "id": "bec68937-2bf0-4713-9b9a-2d8470ed53e7",
   "metadata": {},
   "outputs": [],
   "source": [
    "def dynamic_var(X):\n",
    "    if X in globals():\n",
    "        return globals()[X]\n",
    "    else:\n",
    "        globals()[X] = Symbol(X)\n",
    "        return globals()[X]\n",
    "# globals().__getitem__ = dynamic_var"
   ]
  },
  {
   "cell_type": "code",
   "execution_count": 217,
   "id": "e14011f2-399b-47c7-ada6-85f48c690777",
   "metadata": {},
   "outputs": [],
   "source": [
    "class Expression:\n",
    "#     def __init__(self, terms=None, *extra_terms):\n",
    "    def __init__(self, *terms):\n",
    "        if terms is None:\n",
    "            terms = []\n",
    "#         terms.extend(extra_terms)\n",
    "        self.terms = terms\n",
    "        self.group = True\n",
    "    def stringify(self, level=0):\n",
    "        result = ' '.join([(T.stringify(level+1) if isinstance(T, Expression) else str(T)) for T in self.terms])\n",
    "        if all([self.group, level!=0, self.terms]):\n",
    "            result = f'({result})'\n",
    "        return result\n",
    "    def __str__(self):\n",
    "#         return ' '.join(map(str, self.terms))\n",
    "        return self.stringify()\n",
    "    def __repr__(self):\n",
    "        return str(self)"
   ]
  },
  {
   "cell_type": "code",
   "execution_count": 218,
   "id": "4277f6f8-f702-4b56-be96-39a32addd62e",
   "metadata": {},
   "outputs": [],
   "source": [
    "class Operator(Expression):\n",
    "    def __init__(self, symbol, *inputs, **kwargs):\n",
    "        super().__init__(*inputs, **kwargs)\n",
    "        self.symbol = symbol\n",
    "        self.inputs = self.terms\n",
    "    def stringify(self, level=0):\n",
    "        if len(self.terms) == 2:\n",
    "            return ' '.join([(T.stringify(level+1) if isinstance(T, Expression) else str(T)) for T in [self.terms[0], self.symbol, self.terms[1]]])\n",
    "        else:\n",
    "            return super().__str__(self)\n",
    "    def __str__(self):\n",
    "        return self.stringify()"
   ]
  },
  {
   "cell_type": "code",
   "execution_count": 246,
   "id": "9b5fc6dd-2fd2-4c1f-b2a6-27b047f4a5eb",
   "metadata": {},
   "outputs": [],
   "source": [
    "class Symbol(Expression):\n",
    "    def __init__(self, name):\n",
    "        super().__init__()\n",
    "        self.name = name\n",
    "#     def __add__(self, B):\n",
    "#         return Expression(Operator('+', self, B))\n",
    "    def stringify(self, *args, **kwargs):\n",
    "        return str(self.name)\n",
    "    def __str__(self):\n",
    "        return str(self.name)"
   ]
  },
  {
   "cell_type": "code",
   "execution_count": 247,
   "id": "2b223642-eac7-44fb-8043-521563d662b3",
   "metadata": {},
   "outputs": [],
   "source": [
    "def magic_factory(W):\n",
    "    return lambda Self, Other: Expression(Operator(W, Self, Other))\n",
    "def magic_factory_reverse(W):\n",
    "    return lambda Self, Other: Expression(Operator(W, Other, Self))\n",
    "\n",
    "for J, K in [('add', '+'), ('sub', '-'), ('mul', '*'), ('truediv', '/'), ('xor', '^')]:\n",
    "#     for F in [magic_factory, magic_factory_reverse]:\n",
    "    setattr(\n",
    "        Expression,\n",
    "        f'__{J}__',\n",
    "        magic_factory(K)\n",
    "    )\n",
    "    setattr(Expression, f'__r{J}__', magic_factory(K))"
   ]
  },
  {
   "cell_type": "code",
   "execution_count": 248,
   "id": "0e436d0c-6b7c-4ece-9f14-0d2e46c385fd",
   "metadata": {},
   "outputs": [],
   "source": [
    "class Session:\n",
    "    pass\n",
    "qq = Session"
   ]
  },
  {
   "cell_type": "code",
   "execution_count": 249,
   "id": "792968d9-f5eb-436c-8384-bf15adcde49c",
   "metadata": {},
   "outputs": [
    {
     "data": {
      "text/plain": [
       "False"
      ]
     },
     "execution_count": 249,
     "metadata": {},
     "output_type": "execute_result"
    }
   ],
   "source": [
    "Expression.__mul__==Expression.__add__"
   ]
  },
  {
   "cell_type": "code",
   "execution_count": 250,
   "id": "eeb5006a-7e22-441e-844f-cfe4f6035d5c",
   "metadata": {},
   "outputs": [],
   "source": [
    "varnames = list(string.ascii_lowercase)\n",
    "for C in varnames:\n",
    "    globals()[C] = Symbol(C)"
   ]
  },
  {
   "cell_type": "code",
   "execution_count": 251,
   "id": "aeb5daac-5fb5-4b93-a8ae-b82985d6b893",
   "metadata": {},
   "outputs": [
    {
     "data": {
      "text/plain": [
       "((x + 5) - 10) ^ 2"
      ]
     },
     "execution_count": 251,
     "metadata": {},
     "output_type": "execute_result"
    }
   ],
   "source": [
    "((x+5)-10)^2"
   ]
  },
  {
   "cell_type": "code",
   "execution_count": 252,
   "id": "ac19ffda-41fa-4b32-b771-f9e9b367e1a0",
   "metadata": {},
   "outputs": [],
   "source": [
    "# locals()"
   ]
  },
  {
   "cell_type": "code",
   "execution_count": 253,
   "id": "5d61a6b9-e02c-46bf-aea3-0053aba979ab",
   "metadata": {},
   "outputs": [],
   "source": [
    "# |y|"
   ]
  },
  {
   "cell_type": "code",
   "execution_count": 254,
   "id": "c73920f7-0080-40e3-8eb4-5dde38362d3f",
   "metadata": {},
   "outputs": [],
   "source": [
    "# qq<root>\n",
    "# 3<root>x\n",
    "# xy"
   ]
  },
  {
   "cell_type": "code",
   "execution_count": 255,
   "id": "0eb4d9ea-e3cf-45f0-9ffd-3cff4402ac57",
   "metadata": {},
   "outputs": [],
   "source": [
    "class Infix:\n",
    "    def __init__(self, function):\n",
    "        self.function = function\n",
    "    def __ror__(self, other):\n",
    "        return Infix(lambda x, self=self, other=other: self.function(other, x))\n",
    "    def __or__(self, other):\n",
    "        return self.function(other)\n",
    "    def __rlshift__(self, other):\n",
    "        return Infix(lambda x, self=self, other=other: self.function(other, x))\n",
    "    def __rshift__(self, other):\n",
    "        return self.function(other)\n",
    "    def __call__(self, value1, value2):\n",
    "        return self.function(value1, value2)"
   ]
  },
  {
   "cell_type": "code",
   "execution_count": 259,
   "id": "92b84012-b4bd-44e5-8528-a6b46e52495d",
   "metadata": {},
   "outputs": [],
   "source": [
    "root = Infix(lambda A, B: B ^ (Symbol(1) / A))\n",
    "union = Infix(lambda A, B: A.union(B))\n",
    "# handling int literals?\n",
    "# define/apply op?"
   ]
  },
  {
   "cell_type": "code",
   "execution_count": null,
   "id": "1dc21ee0-3c0c-4219-8a9d-9d521791da7f",
   "metadata": {},
   "outputs": [],
   "source": [
    "# set.intersection"
   ]
  },
  {
   "cell_type": "code",
   "execution_count": 257,
   "id": "53019e5b-f5cd-4a33-a712-599e75f0215f",
   "metadata": {},
   "outputs": [
    {
     "data": {
      "text/plain": [
       "x ^ (1 / 3)"
      ]
     },
     "execution_count": 257,
     "metadata": {},
     "output_type": "execute_result"
    }
   ],
   "source": [
    "3<<root>>x"
   ]
  },
  {
   "cell_type": "code",
   "execution_count": 260,
   "id": "1b6e09a4-e99a-410c-a3de-534bd297fbe3",
   "metadata": {},
   "outputs": [
    {
     "data": {
      "text/plain": [
       "{4, 6, 7, 8, 9}"
      ]
     },
     "execution_count": 260,
     "metadata": {},
     "output_type": "execute_result"
    }
   ],
   "source": [
    "{4, 7, 8}<<union>>{7, 6, 9}"
   ]
  }
 ],
 "metadata": {
  "kernelspec": {
   "display_name": "Python 3",
   "language": "python",
   "name": "python3"
  },
  "language_info": {
   "codemirror_mode": {
    "name": "ipython",
    "version": 3
   },
   "file_extension": ".py",
   "mimetype": "text/x-python",
   "name": "python",
   "nbconvert_exporter": "python",
   "pygments_lexer": "ipython3",
   "version": "3.9.4"
  }
 },
 "nbformat": 4,
 "nbformat_minor": 5
}
