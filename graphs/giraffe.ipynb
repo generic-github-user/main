{
 "cells": [
  {
   "cell_type": "code",
   "execution_count": 299,
   "id": "6a5aabff-4f0f-49cb-85c5-b0b54d8c5c64",
   "metadata": {},
   "outputs": [],
   "source": [
    "import nltk\n",
    "from fuzzywuzzy import fuzz\n",
    "import string\n",
    "import random\n",
    "import itertools\n",
    "import pprint\n",
    "import pyvis\n",
    "from IPython.display import JSON\n",
    "import numpy as np\n",
    "import matplotlib.pyplot as plt"
   ]
  },
  {
   "cell_type": "code",
   "execution_count": 2,
   "id": "fbb83bd8-bad4-4b9a-a5cb-cbf032823b9a",
   "metadata": {},
   "outputs": [],
   "source": [
    "hamlet = nltk.corpus.gutenberg.sents('shakespeare-hamlet.txt')\n",
    "def words_to_sent(w):\n",
    "    s = w[0]\n",
    "    s += ''.join([t if t in string.punctuation else ' '+t for t in w[1:]])\n",
    "    return s\n",
    "hamlet = list(map(words_to_sent, hamlet))\n",
    "hamlet = list(filter(lambda l: len(l) >= 10, hamlet))"
   ]
  },
  {
   "cell_type": "code",
   "execution_count": 3,
   "id": "237d21a4-0baf-4d1d-8c69-823b3acb5200",
   "metadata": {},
   "outputs": [
    {
     "data": {
      "text/plain": [
       "1912"
      ]
     },
     "execution_count": 3,
     "metadata": {},
     "output_type": "execute_result"
    }
   ],
   "source": [
    "len(hamlet)"
   ]
  },
  {
   "cell_type": "code",
   "execution_count": 4,
   "id": "889990a6-f08e-4d19-bb79-d4c5ba608435",
   "metadata": {},
   "outputs": [
    {
     "data": {
      "text/plain": [
       "<function pyvis.network.Network.add_node(self, n_id, label=None, shape='dot', **options)>"
      ]
     },
     "execution_count": 4,
     "metadata": {},
     "output_type": "execute_result"
    }
   ],
   "source": [
    "pyvis.network.Network.add_node"
   ]
  },
  {
   "cell_type": "code",
   "execution_count": 5,
   "id": "43350210-f600-443c-8814-c57748cbf3c3",
   "metadata": {},
   "outputs": [
    {
     "name": "stdout",
     "output_type": "stream",
     "text": [
      "[[62, 'That thou so many Pr', 'How say you by that?'],\n",
      " [62, 'That thou so many Pr', 'How say you by that?'],\n",
      " [62, 'That thou so many Pr', 'How say you by that?'],\n",
      " [62, 'That thou so many Pr', 'Be thou as chast as '],\n",
      " [62, 'That thou so many Pr', \"Thou prai' st not we\"]]\n",
      "1000\n"
     ]
    }
   ],
   "source": [
    "w = 800\n",
    "def clip(x):\n",
    "    return x[:20]\n",
    "\n",
    "c = random.choices(hamlet, k=w*2)\n",
    "a = c[:w]\n",
    "b = c[w:]\n",
    "\n",
    "a, b = map(clip, a), map(clip, b)\n",
    "pairs = []\n",
    "limit = 1000\n",
    "for x, y in itertools.product(a, b):\n",
    "    dist = fuzz.token_sort_ratio(x, y)\n",
    "    if 60 < dist < 97:\n",
    "        pairs.append([dist, x, y])\n",
    "    if len(pairs) >= limit:\n",
    "        break\n",
    "\n",
    "pprinter = pprint.PrettyPrinter()\n",
    "pprinter.pprint(pairs[:5])\n",
    "print(len(pairs))"
   ]
  },
  {
   "cell_type": "code",
   "execution_count": 6,
   "id": "4231c68b-88b6-4aad-97a3-f6f235c920e5",
   "metadata": {},
   "outputs": [
    {
     "ename": "NameError",
     "evalue": "name 'G' is not defined",
     "output_type": "error",
     "traceback": [
      "\u001b[1;31m---------------------------------------------------------------------------\u001b[0m",
      "\u001b[1;31mNameError\u001b[0m                                 Traceback (most recent call last)",
      "\u001b[1;32m<ipython-input-6-f27abb40671a>\u001b[0m in \u001b[0;36m<module>\u001b[1;34m\u001b[0m\n\u001b[1;32m----> 1\u001b[1;33m \u001b[0mG\u001b[0m\u001b[1;33m.\u001b[0m\u001b[0mfind\u001b[0m\u001b[1;33m(\u001b[0m\u001b[0mrandom\u001b[0m\u001b[1;33m.\u001b[0m\u001b[0mchoice\u001b[0m\u001b[1;33m(\u001b[0m\u001b[0mG\u001b[0m\u001b[1;33m.\u001b[0m\u001b[0mnodes\u001b[0m\u001b[1;33m)\u001b[0m\u001b[1;33m.\u001b[0m\u001b[0mvalue\u001b[0m\u001b[1;33m)\u001b[0m\u001b[1;33m\u001b[0m\u001b[1;33m\u001b[0m\u001b[0m\n\u001b[0m",
      "\u001b[1;31mNameError\u001b[0m: name 'G' is not defined"
     ]
    }
   ],
   "source": [
    "G.find(random.choice(G.nodes).value)"
   ]
  },
  {
   "cell_type": "code",
   "execution_count": 245,
   "id": "53fec613-a023-4739-8cdc-e334600a4405",
   "metadata": {
    "scrolled": true,
    "tags": []
   },
   "outputs": [],
   "source": [
    "class Graph:\n",
    "    def __init__(self, nodes=None, duplicate=False, u=False, **kwargs):\n",
    "        if nodes is None:\n",
    "            nodes = []\n",
    "#         self.nodes = nodes\n",
    "        self.nodes = []\n",
    "        self.duplicate = duplicate\n",
    "        if nodes:\n",
    "            self.add_nodes(nodes, duplicate=u, **kwargs)\n",
    "        "
   ]
  },
  {
   "cell_type": "code",
   "execution_count": 277,
   "id": "75a92d58-d674-4ed4-a973-de9167919647",
   "metadata": {
    "scrolled": true,
    "tags": []
   },
   "outputs": [],
   "source": [
    "class Graph(Graph):\n",
    "    def visualize(self, node_options={}, edge_options={}, **kwargs):\n",
    "        self.visualization = pyvis.network.Network(notebook=True, **kwargs)\n",
    "        added_nodes = []\n",
    "        for node in self.nodes:\n",
    "            text = node.value\n",
    "            if not node.grouped:\n",
    "#                 print(node.degree())\n",
    "                \n",
    "\n",
    "#                 deg = node.value\n",
    "\n",
    "                if type(node.value) is str:\n",
    "                    metric = len(node.value)\n",
    "                else:\n",
    "                    metric = node.value\n",
    "                \n",
    "#                 metric = node.degree()\n",
    "                deg = f'hsl({metric*6}, 80%, 50%)'\n",
    "                \n",
    "                if not text:\n",
    "                    text = ' '\n",
    "                self.visualization.add_node(id(node), label=text, group=deg, **node_options)#, color=deg)#, size=deg**(1/4)*10)\n",
    "#             for g in node.grouped:\n",
    "#                 self.visualization.add_edge(text, g.value)\n",
    "        for node in self.nodes:\n",
    "#             print([list(map(str, n.grouped)) for n in self.nodes])\n",
    "            defaults = {\n",
    "                'smooth': True\n",
    "            }\n",
    "            edge_options = defaults | edge_options\n",
    "            if len(node.grouped) == 2:\n",
    "                if type(node.value) in [int, float]:\n",
    "#                     d = int(10e2*1/(node.value*0.1))\n",
    "                    \n",
    "                    try:\n",
    "                        self.visualization.add_edge(*[id(x) for x in node.grouped], label=node.value, **edge_options)\n",
    "                    except:\n",
    "                        pass\n",
    "                else:\n",
    "                    try:\n",
    "                        self.visualization.add_edge(*[id(x) for x in node.grouped], label=node.value, **edge_options)\n",
    "                    except:\n",
    "                        pass\n",
    "        return self.visualization.show('./visualization.html')"
   ]
  },
  {
   "cell_type": "code",
   "execution_count": 247,
   "id": "6819dc86-6f74-499b-9d1f-ba27f1c3817e",
   "metadata": {
    "scrolled": true,
    "tags": []
   },
   "outputs": [],
   "source": [
    "class Graph(Graph):\n",
    "    def find(self, **kwargs):\n",
    "        defaults = dict(unique=True)\n",
    "        kwargs |= defaults\n",
    "#         return list(filter(lambda n: n.value == x and n.unique, self.nodes))\n",
    "        results = list(filter(lambda n: all((k in vars(n) and getattr(n, k) == v) for k, v in kwargs.items()), self.nodes))\n",
    "        return Graph(nodes=results, duplicate=self.duplicate)"
   ]
  },
  {
   "cell_type": "code",
   "execution_count": 248,
   "id": "e5238cc5-874c-466a-aa8e-1f9b5c832e09",
   "metadata": {
    "scrolled": true,
    "tags": []
   },
   "outputs": [],
   "source": [
    "class Graph(Graph):\n",
    "    def add_node(self, data, duplicate=False, return_node=True, metadata=None):\n",
    "        new_node = None\n",
    "#         if hasattr(self, 'duplicate'):\n",
    "#         print(vars(self))\n",
    "#         if duplicate is None:\n",
    "#             duplicate = self.duplicate\n",
    "        \n",
    "        if type(data) in [list, tuple]:\n",
    "            matches = self.find(value=data[0])\n",
    "            if (not matches) or duplicate:# or data[0] in '+':\n",
    "                connecting_node = Node(data[0], data[1:], graph=self, metadata=metadata, duplicate=duplicate)\n",
    "    #             self.nodes.append(connecting_node)\n",
    "#                 self.add_node(connecting_node)\n",
    "                self.add_node(connecting_node, metadata=metadata, duplicate=duplicate)\n",
    "                new_node = connecting_node\n",
    "            elif matches:\n",
    "                new_node = matches[0]\n",
    "        elif type(data) in [Node]:\n",
    "            matches = self.find(value=data.value)\n",
    "#             print(matches, data.value)\n",
    "            if (not matches) or duplicate:# or data.unique:\n",
    "#             if not matches or type(data.value) is int:\n",
    "                self.nodes.append(data)\n",
    "                new_node = data\n",
    "            elif matches:\n",
    "                new_node = matches[0]\n",
    "        elif type(data) in [str, int, float, bool]:\n",
    "            matches = self.find(value=data)\n",
    "            if (not matches) or (duplicate and str(data) == '   '):\n",
    "#                 print(data, matches.nodes, Node(data).value)\n",
    "                new_node = Node(data, graph=self, metadata=metadata, duplicate=duplicate)\n",
    "            elif matches:\n",
    "                new_node = matches[0]\n",
    "        \n",
    "        if return_node == 'inner':\n",
    "            return new_node.grouped\n",
    "        elif return_node:\n",
    "            return new_node\n",
    "        else:\n",
    "            return self\n",
    "    "
   ]
  },
  {
   "cell_type": "code",
   "execution_count": 249,
   "id": "481ed956-e4f8-4bae-a43d-f56a8bdef083",
   "metadata": {
    "scrolled": true,
    "tags": []
   },
   "outputs": [],
   "source": [
    "class Graph(Graph):\n",
    "    def sample(self, n=1):\n",
    "        return Graph(nodes=random.sample(self.nodes, k=n))\n",
    "    \n",
    "    def sample_nodes(self, n=1):\n",
    "        return random.sample(self.nodes, k=n)\n",
    "    \n",
    "    def add_nodes(self, x, **kwargs):\n",
    "        for xi in x:\n",
    "            self.add_node(xi, **kwargs)\n",
    "        return self\n",
    "    \n",
    "    def join(self, x, q='s'):\n",
    "        lx = len(x.nodes)\n",
    "        for i in range(lx):\n",
    "            val = x.nodes[i].value\n",
    "            if 'e' not in val:\n",
    "                self.nodes[i].extend(x.nodes[i].value+str(i)+q, f'e{val}{i}'+q, duplicate=True)\n",
    "        return self\n",
    "    "
   ]
  },
  {
   "cell_type": "code",
   "execution_count": 251,
   "id": "a5b9ce00-aac3-4bfe-84c6-fc6a479fe3fe",
   "metadata": {
    "scrolled": true,
    "tags": []
   },
   "outputs": [],
   "source": [
    "class Graph(Graph):\n",
    "    def __getitem__(self, i):\n",
    "        return self.nodes[i]\n",
    "    \n",
    "    def __bool__(self):\n",
    "        return bool(self.nodes)\n",
    "    \n",
    "# semi-toroidal graphs"
   ]
  },
  {
   "cell_type": "code",
   "execution_count": 377,
   "id": "ddccae5c-8c31-42a8-8965-caebe669a0de",
   "metadata": {},
   "outputs": [
    {
     "data": {
      "text/plain": [
       "<matplotlib.image.AxesImage at 0x2912c2542e0>"
      ]
     },
     "execution_count": 377,
     "metadata": {},
     "output_type": "execute_result"
    },
    {
     "data": {
      "image/png": "[encoded data removed]",
      "text/plain": [
       "<Figure size 432x288 with 1 Axes>"
      ]
     },
     "metadata": {
      "needs_background": "light"
     },
     "output_type": "display_data"
    }
   ],
   "source": [
    "class Graph(Graph):\n",
    "    def AdjacencyMatrix(self, use_weights=True, weight_prop='weight'):\n",
    "        matrix = np.zeros([len(self.nodes)//2+2]*2)\n",
    "        for a, b in itertools.product(self.nodes, repeat=2):\n",
    "            if a in b.adjacent():\n",
    "                connecting_node = list(filter(lambda x: all(y in x.grouped for y in [a, b]), self.nodes))[0]\n",
    "                if use_weights and hasattr(connecting_node, weight_prop):\n",
    "                    value = getattr(connecting_node, weight_prop)\n",
    "                else:\n",
    "                    value = 1\n",
    "                matrix[self.nodes.index(a), self.nodes.index(b)] = value\n",
    "        return matrix\n",
    "\n",
    "R = RandomGraph(30, 30, weighted=True)\n",
    "plt.imshow(R.AdjacencyMatrix())"
   ]
  },
  {
   "cell_type": "code",
   "execution_count": 376,
   "id": "501b81f7-01a5-4143-9d64-6b2ed144dcb0",
   "metadata": {
    "tags": []
   },
   "outputs": [
    {
     "name": "stdout",
     "output_type": "stream",
     "text": [
      "0.592894285859977\n"
     ]
    }
   ],
   "source": [
    "class RandomGraph(Graph):\n",
    "    def __init__(self, n, m, weighted=False, weight_bounds=[0, 1]):\n",
    "        super().__init__()\n",
    "        self.add_nodes(list(range(1,n+1)))\n",
    "        metadata = [{}]\n",
    "        for im in range(m):\n",
    "            if weighted:\n",
    "                metadata[0]['weight'] = random.uniform(*weight_bounds)\n",
    "            self.add_node([n+im]+random.sample(self.nodes[:n], k=2), metadata=metadata)\n",
    "        \n",
    "R = RandomGraph(100, 100, weighted=True)\n",
    "print(random.choice(R.nodes).weight)\n",
    "# R.visualize(width=1000, height=1000, node_options={'shape': 'circle'})"
   ]
  },
  {
   "cell_type": "code",
   "execution_count": null,
   "id": "e3df1bcc-793b-42a9-9af6-7e5ababc8af1",
   "metadata": {},
   "outputs": [],
   "source": [
    "pyvis.network.Network\n",
    "\n",
    "# dynamic graphs/temporal analysis\n",
    "# add advanced graph indexing syntax"
   ]
  },
  {
   "cell_type": "code",
   "execution_count": 386,
   "id": "cf27706d-858a-4abf-a2aa-08ed3e148d47",
   "metadata": {},
   "outputs": [],
   "source": [
    "class Randomizer:\n",
    "    def __init__(self, lower=0, upper=1, distribution='uniform', form='continuous'):\n",
    "        self.lower = lower\n",
    "        self.upper = upper\n",
    "        self.distribution = distribution\n",
    "        \n",
    "    def sample(self):\n",
    "        return getattr(random, self.distribution)(self.lower, self.upper)\n",
    "    \n",
    "    def __call__(self):\n",
    "        return self.sample()"
   ]
  },
  {
   "cell_type": "code",
   "execution_count": 384,
   "id": "b6db7882-dfb6-4fcc-864a-865f4818ec3e",
   "metadata": {},
   "outputs": [
    {
     "data": {
      "text/html": [
       "\n",
       "        <iframe\n",
       "            width=\"1000\"\n",
       "            height=\"1000\"\n",
       "            src=\"./visualization.html\"\n",
       "            frameborder=\"0\"\n",
       "            allowfullscreen\n",
       "        ></iframe>\n",
       "        "
      ],
      "text/plain": [
       "<IPython.lib.display.IFrame at 0x2912c278370>"
      ]
     },
     "execution_count": 384,
     "metadata": {},
     "output_type": "execute_result"
    }
   ],
   "source": [
    "class CompleteGraph(Graph):\n",
    "    def __init__(self, n, weighted=False, weights=1):\n",
    "        super().__init__()\n",
    "        self.add_nodes(list(range(1,n+1)))\n",
    "        metadata = [{}]\n",
    "        for i in range(n):\n",
    "            for j in range(n):\n",
    "                if i != j:\n",
    "#                     print(i, j)\n",
    "                    ni = self.nodes[i]\n",
    "                    nj = self.nodes[j]\n",
    "                    \n",
    "                    if weighted:\n",
    "                        if type(weights) in [int, float]:\n",
    "                            metadata[0]['weight'] = weights\n",
    "                        elif type(weights) in [Randomizer]:\n",
    "                            metadata[0]['weight'] = weights.sample()\n",
    "                    self.add_node([f'E{ni.value+nj.value}', ni, nj], duplicate=True, metadata=metadata)\n",
    "        \n",
    "R = CompleteGraph(7, weighted=True, weights=Randomizer())\n",
    "R.visualize(width=1000, height=1000, node_options={'shape': 'circle'}, edge_options={'smooth': True})"
   ]
  },
  {
   "cell_type": "code",
   "execution_count": 385,
   "id": "efc64652-ffd4-44da-a774-c0986735be23",
   "metadata": {},
   "outputs": [
    {
     "data": {
      "text/plain": [
       "<matplotlib.image.AxesImage at 0x2912bee01c0>"
      ]
     },
     "execution_count": 385,
     "metadata": {},
     "output_type": "execute_result"
    },
    {
     "data": {
      "image/png": "[encoded data removed]",
      "text/plain": [
       "<Figure size 432x288 with 1 Axes>"
      ]
     },
     "metadata": {
      "needs_background": "light"
     },
     "output_type": "display_data"
    }
   ],
   "source": [
    "plt.imshow(R.AdjacencyMatrix())"
   ]
  },
  {
   "cell_type": "code",
   "execution_count": 239,
   "id": "d9affb15-7ef9-4367-9fa6-1bafb789ce00",
   "metadata": {},
   "outputs": [],
   "source": [
    "class GridGraph(Graph):\n",
    "    def __init__(self, dims):\n",
    "        super().__init__([], False, False)\n",
    "        last = Graph(['x'], True, True)\n",
    "        for d in dims:\n",
    "            L = Graph(['x'], True, True)\n",
    "#             print(list(map(str,L.nodes)), list(map(str,last.nodes)))\n",
    "            for n in range(d-1):\n",
    "                L = L.join(last, str(n))\n",
    "            last.nodes = [q for q in L.nodes]\n",
    "        self.nodes = last.nodes\n",
    "\n",
    "R = GridGraph([3, 4])\n",
    "# R.visualize(width=1000, height=1000, node_options={'shape': 'circle'})"
   ]
  },
  {
   "cell_type": "code",
   "execution_count": 233,
   "id": "1b548796-0b1c-46ae-b2dd-c9c250169695",
   "metadata": {},
   "outputs": [
    {
     "data": {
      "text/plain": [
       "[[],\n",
       " [],\n",
       " ['x', 'x0'],\n",
       " ['x', 'x0'],\n",
       " [],\n",
       " ['x0', 'x01'],\n",
       " ['x0', 'x01'],\n",
       " ['x', 'x0'],\n",
       " ['x', 'x0'],\n",
       " ['x0', 'x01'],\n",
       " ['x0', 'x01'],\n",
       " ['x', 'x0'],\n",
       " ['x', 'x0'],\n",
       " ['x0', 'x01'],\n",
       " ['x0', 'x01'],\n",
       " ['x', 'x0'],\n",
       " ['x', 'x0'],\n",
       " ['x0', 'x01'],\n",
       " ['x0', 'x01'],\n",
       " ['x', 'x0'],\n",
       " ['x', 'x0'],\n",
       " ['x0', 'x01'],\n",
       " ['x0', 'x01'],\n",
       " ['x', 'x0'],\n",
       " ['x', 'x0'],\n",
       " ['x0', 'x01'],\n",
       " ['x0', 'x01'],\n",
       " ['x', 'x0'],\n",
       " ['x', 'x0'],\n",
       " ['x0', 'x01'],\n",
       " ['x0', 'x01']]"
      ]
     },
     "execution_count": 233,
     "metadata": {},
     "output_type": "execute_result"
    }
   ],
   "source": [
    "# list(map(str,R.nodes))\n",
    "[list(map(str,x.grouped)) for x in R.nodes]"
   ]
  },
  {
   "cell_type": "code",
   "execution_count": 240,
   "id": "7ba4ee09-1d86-46ad-ba66-4dd23f379560",
   "metadata": {
    "scrolled": true,
    "tags": []
   },
   "outputs": [],
   "source": [
    "class Node:\n",
    "    def init(self, value, grouped=None, graph=None, metadata=None, **kwargs):\n",
    "        self.value = value\n",
    "        if grouped is None:\n",
    "            grouped = []\n",
    "#         self.grouped = [g if type(g) is Node else Node(g, graph=graph) for g in grouped]\n",
    "        self.graph = graph\n",
    "        if metadata:\n",
    "            M = metadata[1:]\n",
    "        else:\n",
    "            M = None\n",
    "        self.grouped = [g if type(g) is Node else self.graph.add_node(g, metadata=M, **kwargs) for g in grouped]\n",
    "        self.unique = True#not (type(self.value) is int)\n",
    "#         print(self.graph, self.value)\n",
    "#         if self.graph:\n",
    "        if self.graph is not None:\n",
    "            self.graph.add_node(self, duplicate=True)#, **kwargs)\n",
    "        \n",
    "        if metadata:\n",
    "            for k, v in metadata[0].items():\n",
    "                setattr(self, k, v)\n",
    "            \n",
    "    def degree(self):\n",
    "        self.deg = None\n",
    "        if self.graph:\n",
    "#             self.deg = sum(int(self in x.grouped) for x in self.graph.nodes)\n",
    "#             self.deg = sum(map(bool, self.graph.find(self.value)))\n",
    "            self.deg = sum(self in x.grouped for x in self.graph.nodes)\n",
    "#             print(self.deg)\n",
    "        return self.deg\n",
    "    \n",
    "    def adjacent(self, exclude=None):\n",
    "        grouping_nodes = [x for x in self.graph.nodes if (self in x.grouped)]\n",
    "        return Graph(nodes=[n for gn in grouping_nodes for n in gn.grouped if (n is not self and (not exclude or n not in exclude.nodes))])\n",
    "    \n",
    "    def extend(self, z, w, return_new=False, return_node=False, **kwargs):\n",
    "        n = self.graph.add_node([w, self, z], return_node=return_node, **kwargs)\n",
    "        if return_new:\n",
    "            return n\n",
    "        else:\n",
    "            return self\n",
    "    \n",
    "    def __str__(self):\n",
    "        return str(self.value)"
   ]
  },
  {
   "cell_type": "code",
   "execution_count": 241,
   "id": "8abde134-f4e8-4f11-8a67-c7c26d7563ed",
   "metadata": {
    "scrolled": true,
    "tags": []
   },
   "outputs": [],
   "source": [
    "for cls in [Graph, Node]:\n",
    "    if hasattr(cls, 'init'):\n",
    "        setattr(cls, '__init__', getattr(cls, 'init'))\n",
    "    \n",
    "\n",
    "# G = Graph()\n",
    "# G.add_nodes(pairs, metadata=[dict(cat='similarity'), dict(cat='text')]).nodes[0].value\n",
    "# G.visualize(width=1000, height=1000)"
   ]
  },
  {
   "cell_type": "code",
   "execution_count": 244,
   "id": "880179ca-abb8-46c4-aa3d-65d876ae8fd2",
   "metadata": {
    "tags": []
   },
   "outputs": [
    {
     "data": {
      "text/html": [
       "\n",
       "        <iframe\n",
       "            width=\"1000\"\n",
       "            height=\"1000\"\n",
       "            src=\"./visualization.html\"\n",
       "            frameborder=\"0\"\n",
       "            allowfullscreen\n",
       "        ></iframe>\n",
       "        "
      ],
      "text/plain": [
       "<IPython.lib.display.IFrame at 0x29127c4ab80>"
      ]
     },
     "execution_count": 244,
     "metadata": {},
     "output_type": "execute_result"
    }
   ],
   "source": [
    "symbols = '++--'\n",
    "num = [dict(cat='num')]\n",
    "op = [dict(unique=False), dict(unique=False)]\n",
    "# G = Graph(nodes=[1, 1], duplicate=True, metadata=num)\n",
    "\n",
    "L = 6\n",
    "#     start_values = [2, 12, 4, 32, 7]\n",
    "start_values = [random.randint(-10, 10) for i in range(6)]\n",
    "G = Graph(start_values, False, False, metadata=num)\n",
    "# G.evolve(lambda x: x.branch(lambda y: y+))\n",
    "# print(G.nodes)\n",
    "buffer = [v for v in G.nodes]\n",
    "for i in range(30):\n",
    "#         s = sorted(G.find(cat='num').nodes, key=lambda k: k.value, reverse=True)[:3]\n",
    "    s = buffer[-L:]\n",
    "\n",
    "#     print(s, G.nodes)\n",
    "#         print([a.value for a in s])\n",
    "#         j = G.add_node(sum(n.value for n in s), metadata=num)\n",
    "    s = [v.value for v in s]\n",
    "    j = G.add_node(((s[-1]+s[-3])-s[-4])-(abs(s[-5])+1), metadata=num, duplicate=True)\n",
    "    buffer.append(j)\n",
    "    buffer.pop(0)\n",
    "#         G.add_node(['+', s[0], j], metadata=op, duplicate=False)\n",
    "#         G.add_node(['+', s[1], j], metadata=op)\n",
    "    for l in range(4):\n",
    "#             G.add_node(Node('+', [s[l], j], graph=G), duplicate=False)\n",
    "#             breakpoint()\n",
    "        Node(symbols[l], [s[l], j], graph=G, duplicate=False)\n",
    "#     *s?\n",
    "G.visualize(width=1000, height=1000, directed=True, node_options={'shape': 'circle'})\n",
    "\n",
    "\n",
    "# graph lambda\n",
    "# rule class/strings?\n",
    "# Graph(rule=)"
   ]
  },
  {
   "cell_type": "code",
   "execution_count": 326,
   "id": "b85bd5e1-6419-4016-a52c-a90682b19ea4",
   "metadata": {},
   "outputs": [
    {
     "data": {
      "text/html": [
       "\n",
       "        <iframe\n",
       "            width=\"1000\"\n",
       "            height=\"1000\"\n",
       "            src=\"./visualization.html\"\n",
       "            frameborder=\"0\"\n",
       "            allowfullscreen\n",
       "        ></iframe>\n",
       "        "
      ],
      "text/plain": [
       "<IPython.lib.display.IFrame at 0x1c8d1b38250>"
      ]
     },
     "execution_count": 326,
     "metadata": {},
     "output_type": "execute_result"
    }
   ],
   "source": [
    "S = 'know'\n",
    "G = Graph([S], False, False)\n",
    "# for t in range(2):\n",
    "#     B = G.nodes[t]\n",
    "f = 0\n",
    "done = []\n",
    "for B in G.nodes:\n",
    "    v = B.value\n",
    "    if ' ' not in v:\n",
    "        for i in range(len(v)):\n",
    "            R = v[:i]+v[i+1:]\n",
    "            if len(R)>0:\n",
    "                B.extend(R, '   ', metadata=num, duplicate=True)\n",
    "                f += 1\n",
    "    if f > 200:\n",
    "        break\n",
    "\n",
    "# options = {'font': {'background': 'white'}}\n",
    "options = {}\n",
    "G.visualize(node_options={'shape': 'circle'}, edge_options=options, width=1000, height=1000, directed=True)"
   ]
  },
  {
   "cell_type": "code",
   "execution_count": 267,
   "id": "f04753f7-bce4-45ab-9ea2-21026a6374a6",
   "metadata": {},
   "outputs": [
    {
     "data": {
      "text/plain": [
       "72"
      ]
     },
     "execution_count": 267,
     "metadata": {},
     "output_type": "execute_result"
    }
   ],
   "source": [
    "G.nodes.__sizeof__()"
   ]
  },
  {
   "cell_type": "code",
   "execution_count": 280,
   "id": "ef7da6ca-3aa7-4d41-864d-2377af39ff25",
   "metadata": {},
   "outputs": [
    {
     "data": {
      "text/plain": [
       "245"
      ]
     },
     "execution_count": 280,
     "metadata": {},
     "output_type": "execute_result"
    }
   ],
   "source": [
    "len(G.nodes)"
   ]
  },
  {
   "cell_type": "code",
   "execution_count": 88,
   "id": "c553ba58-b212-41de-9aac-683b4578c0c4",
   "metadata": {},
   "outputs": [
    {
     "data": {
      "text/plain": [
       "<__main__.Node at 0x1c8d1fcb370>"
      ]
     },
     "execution_count": 88,
     "metadata": {},
     "output_type": "execute_result"
    }
   ],
   "source": [
    "j"
   ]
  },
  {
   "cell_type": "code",
   "execution_count": 282,
   "id": "412d0322-6cc6-420e-ac73-2e49377ac70b",
   "metadata": {},
   "outputs": [],
   "source": [
    "# list(map(str, G.nodes))"
   ]
  },
  {
   "cell_type": "code",
   "execution_count": 90,
   "id": "7cd0c32a-d99e-4eb5-b042-f1b56ba301f7",
   "metadata": {},
   "outputs": [
    {
     "data": {
      "text/plain": [
       "[<__main__.Node at 0x1c8d1d9f370>,\n",
       " <__main__.Node at 0x1c8d1d9fd90>,\n",
       " <__main__.Node at 0x1c8d1fcb1c0>,\n",
       " <__main__.Node at 0x1c8d1fcbf40>,\n",
       " <__main__.Node at 0x1c8d1fcba90>,\n",
       " <__main__.Node at 0x1c8d1fcb8e0>,\n",
       " <__main__.Node at 0x1c8d1dd2070>,\n",
       " <__main__.Node at 0x1c8d1fcbca0>,\n",
       " <__main__.Node at 0x1c8d1fcbac0>,\n",
       " <__main__.Node at 0x1c8cfa14f10>,\n",
       " <__main__.Node at 0x1c8d1fcbb50>,\n",
       " <__main__.Node at 0x1c8d1fcb370>]"
      ]
     },
     "execution_count": 90,
     "metadata": {},
     "output_type": "execute_result"
    }
   ],
   "source": [
    "G.find(cat='num').nodes"
   ]
  },
  {
   "cell_type": "code",
   "execution_count": 91,
   "id": "d157249b-b530-474b-802a-a94305b6a911",
   "metadata": {},
   "outputs": [
    {
     "name": "stdout",
     "output_type": "stream",
     "text": [
      "1 [] True\n",
      "1 [] True\n",
      "2 [] True\n",
      "+ ['1', '2'] True\n",
      "+ ['1', '2'] True\n",
      "3 [] True\n",
      "+ ['2', '3'] True\n",
      "+ ['1', '3'] True\n",
      "5 [] True\n",
      "+ ['3', '5'] True\n",
      "+ ['2', '5'] True\n",
      "8 [] True\n",
      "+ ['5', '8'] True\n",
      "+ ['3', '8'] True\n",
      "13 [] True\n",
      "+ ['8', '13'] True\n",
      "+ ['5', '13'] True\n",
      "21 [] True\n",
      "+ ['13', '21'] True\n",
      "+ ['8', '21'] True\n",
      "34 [] True\n",
      "+ ['21', '34'] True\n",
      "+ ['13', '34'] True\n",
      "55 [] True\n",
      "+ ['34', '55'] True\n",
      "+ ['21', '55'] True\n",
      "89 [] True\n",
      "+ ['55', '89'] True\n",
      "+ ['34', '89'] True\n",
      "144 [] True\n",
      "+ ['89', '144'] True\n",
      "+ ['55', '144'] True\n"
     ]
    }
   ],
   "source": [
    "# [c.cat for c in G.nodes]\n",
    "for c in G.nodes:\n",
    "#     if hasattr(c, 'cat'):\n",
    "#         print(c.cat, c.value)\n",
    "    print(c.value, list(map(str, c.grouped)), c.unique)"
   ]
  },
  {
   "cell_type": "code",
   "execution_count": null,
   "id": "4c7baca0-80b4-426b-aac1-fdbdfe967b61",
   "metadata": {},
   "outputs": [],
   "source": [
    "G.duplicate"
   ]
  },
  {
   "cell_type": "code",
   "execution_count": null,
   "id": "41ffcdea-6014-4cfc-b000-d01b591e3505",
   "metadata": {},
   "outputs": [],
   "source": [
    "# G.add_node([5], return_node=False).nodes\n",
    "list(map(str,G.nodes))\n",
    "# add callbacks"
   ]
  },
  {
   "cell_type": "code",
   "execution_count": null,
   "id": "ff36c699-5903-4dd8-9a6f-cffab067621d",
   "metadata": {},
   "outputs": [],
   "source": [
    "r = G.find(cat='text').sample_nodes()[0]\n",
    "visited = Graph()\n",
    "for i in range(20):\n",
    "    print(r.value)\n",
    "    visited.add_node(r)\n",
    "    neighbors = r.adjacent(exclude=visited).nodes\n",
    "    if neighbors:\n",
    "        r = neighbors[0]\n",
    "    else:\n",
    "        break"
   ]
  },
  {
   "cell_type": "code",
   "execution_count": null,
   "id": "cb738537-2bd4-4c5b-9ba1-562285671541",
   "metadata": {},
   "outputs": [],
   "source": [
    "r[0].cat"
   ]
  },
  {
   "cell_type": "code",
   "execution_count": 284,
   "id": "3a242d3a-f165-42ee-94c4-d79c1ca9c39a",
   "metadata": {
    "tags": []
   },
   "outputs": [
    {
     "data": {
      "text/plain": [
       "['all',\n",
       " 'allo',\n",
       " 'allos',\n",
       " 'allot',\n",
       " 'allots',\n",
       " 'alls',\n",
       " 'allt',\n",
       " 'allts',\n",
       " 'alo',\n",
       " 'alos',\n",
       " 'alot',\n",
       " 'alots',\n",
       " 'als',\n",
       " 'alt',\n",
       " 'alts',\n",
       " 'ao',\n",
       " 'aos',\n",
       " 'aot',\n",
       " 'aots',\n",
       " 'as',\n",
       " 'at',\n",
       " 'ats',\n",
       " 'll',\n",
       " 'llo',\n",
       " 'llos',\n",
       " 'llot',\n",
       " 'llots',\n",
       " 'lls',\n",
       " 'llt',\n",
       " 'llts',\n",
       " 'lo',\n",
       " 'los',\n",
       " 'lot',\n",
       " 'lots',\n",
       " 'ls',\n",
       " 'lt',\n",
       " 'lts',\n",
       " 'os',\n",
       " 'ot',\n",
       " 'ots',\n",
       " 'ts',\n",
       " '~',\n",
       " '~',\n",
       " '~',\n",
       " '~',\n",
       " '~',\n",
       " '~',\n",
       " '~',\n",
       " '~',\n",
       " '~',\n",
       " '~',\n",
       " '~',\n",
       " '~',\n",
       " '~',\n",
       " '~',\n",
       " '~',\n",
       " '~',\n",
       " '~',\n",
       " '~',\n",
       " '~',\n",
       " '~',\n",
       " '~',\n",
       " '~',\n",
       " '~',\n",
       " '~',\n",
       " '~',\n",
       " '~',\n",
       " '~',\n",
       " '~',\n",
       " '~',\n",
       " '~',\n",
       " '~',\n",
       " '~',\n",
       " '~',\n",
       " '~',\n",
       " '~',\n",
       " '~',\n",
       " '~',\n",
       " '~',\n",
       " '~',\n",
       " '~',\n",
       " '~',\n",
       " '~',\n",
       " '~',\n",
       " '~',\n",
       " '~',\n",
       " '~',\n",
       " '~',\n",
       " '~',\n",
       " '~',\n",
       " '~',\n",
       " '~',\n",
       " '~',\n",
       " '~',\n",
       " '~',\n",
       " '~',\n",
       " '~',\n",
       " '~',\n",
       " '~',\n",
       " '~',\n",
       " '~',\n",
       " '~',\n",
       " '~',\n",
       " '~',\n",
       " '~',\n",
       " '~',\n",
       " '~',\n",
       " '~',\n",
       " '~',\n",
       " '~',\n",
       " '~',\n",
       " '~',\n",
       " '~',\n",
       " '~',\n",
       " '~',\n",
       " '~',\n",
       " '~',\n",
       " '~',\n",
       " '~',\n",
       " '~',\n",
       " '~',\n",
       " '~',\n",
       " '~',\n",
       " '~',\n",
       " '~',\n",
       " '~',\n",
       " '~',\n",
       " '~',\n",
       " '~',\n",
       " '~',\n",
       " '~',\n",
       " '~',\n",
       " '~',\n",
       " '~',\n",
       " '~',\n",
       " '~',\n",
       " '~',\n",
       " '~',\n",
       " '~',\n",
       " '~',\n",
       " '~',\n",
       " '~',\n",
       " '~',\n",
       " '~',\n",
       " '~',\n",
       " '~',\n",
       " '~',\n",
       " '~',\n",
       " '~',\n",
       " '~',\n",
       " '~',\n",
       " '~',\n",
       " '~',\n",
       " '~',\n",
       " '~',\n",
       " '~',\n",
       " '~',\n",
       " '~',\n",
       " '~',\n",
       " '~',\n",
       " '~',\n",
       " '~',\n",
       " '~',\n",
       " '~',\n",
       " '~',\n",
       " '~',\n",
       " '~',\n",
       " '~',\n",
       " '~',\n",
       " '~',\n",
       " '~',\n",
       " '~',\n",
       " '~',\n",
       " '~',\n",
       " '~',\n",
       " '~',\n",
       " '~',\n",
       " '~',\n",
       " '~',\n",
       " '~',\n",
       " '~',\n",
       " '~',\n",
       " '~',\n",
       " '~',\n",
       " '~',\n",
       " '~',\n",
       " '~',\n",
       " '~',\n",
       " '~',\n",
       " '~',\n",
       " '~',\n",
       " '~',\n",
       " '~',\n",
       " '~',\n",
       " '~',\n",
       " '~',\n",
       " '~',\n",
       " '~',\n",
       " '~',\n",
       " '~',\n",
       " '~',\n",
       " '~',\n",
       " '~',\n",
       " '~',\n",
       " '~',\n",
       " '~',\n",
       " '~',\n",
       " '~',\n",
       " '~',\n",
       " '~',\n",
       " '~',\n",
       " '~',\n",
       " '~',\n",
       " '~',\n",
       " '~',\n",
       " '~',\n",
       " '~',\n",
       " '~',\n",
       " '~',\n",
       " '~',\n",
       " '~',\n",
       " '~',\n",
       " '~',\n",
       " '~',\n",
       " '~',\n",
       " '~',\n",
       " '~',\n",
       " '~',\n",
       " '~',\n",
       " '~',\n",
       " '~',\n",
       " '~',\n",
       " '~',\n",
       " '~',\n",
       " '~',\n",
       " '~',\n",
       " '~',\n",
       " '~',\n",
       " '~',\n",
       " '~',\n",
       " '~',\n",
       " '~',\n",
       " '~',\n",
       " '~',\n",
       " '~']"
      ]
     },
     "execution_count": 284,
     "metadata": {},
     "output_type": "execute_result"
    }
   ],
   "source": [
    "# G.nodes[35].grouped\n",
    "# G.nodes\n",
    "# sorted(list(map(str, [list(map(str, g.grouped)) for g in G.nodes])), reverse=True)\n",
    "sorted(list(map(lambda x: (str(x.value)), G.nodes)))"
   ]
  },
  {
   "cell_type": "code",
   "execution_count": null,
   "id": "ac6e3a57-635a-4842-843f-27004047890a",
   "metadata": {},
   "outputs": [],
   "source": [
    "JSON(G.nodes)"
   ]
  },
  {
   "cell_type": "code",
   "execution_count": null,
   "id": "130d19c8-d93b-4c49-8459-4761cbae0dfa",
   "metadata": {},
   "outputs": [],
   "source": []
  }
 ],
 "metadata": {
  "kernelspec": {
   "display_name": "Python 3",
   "language": "python",
   "name": "python3"
  },
  "language_info": {
   "codemirror_mode": {
    "name": "ipython",
    "version": 3
   },
   "file_extension": ".py",
   "mimetype": "text/x-python",
   "name": "python",
   "nbconvert_exporter": "python",
   "pygments_lexer": "ipython3",
   "version": "3.9.4"
  }
 },
 "nbformat": 4,
 "nbformat_minor": 5
}
